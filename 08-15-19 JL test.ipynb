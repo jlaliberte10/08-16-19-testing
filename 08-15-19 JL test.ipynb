{
 "cells": [
  {
   "cell_type": "markdown",
   "metadata": {},
   "source": [
    "## request DNA sequence"
   ]
  },
  {
   "cell_type": "code",
   "execution_count": 5,
   "metadata": {},
   "outputs": [
    {
     "name": "stdin",
     "output_type": "stream",
     "text": [
      "Enter the coding DNA sequence: ATG\n"
     ]
    },
    {
     "name": "stdout",
     "output_type": "stream",
     "text": [
      "Coding DNA sequence is: \n",
      "ATG\n"
     ]
    }
   ],
   "source": [
    "DNA_input = input(\"Enter the coding DNA sequence:\")\n",
    "print(\"Coding DNA sequence is: \") \n",
    "print(DNA_input)"
   ]
  },
  {
   "cell_type": "markdown",
   "metadata": {},
   "source": [
    "## request amino acid to be targeted"
   ]
  },
  {
   "cell_type": "code",
   "execution_count": 6,
   "metadata": {},
   "outputs": [
    {
     "name": "stdin",
     "output_type": "stream",
     "text": [
      "Enter the amino acid (single letter) to be targeted: A\n"
     ]
    }
   ],
   "source": [
    "target_aa = input(\"Enter the amino acid (single letter) to be targeted:\")"
   ]
  },
  {
   "cell_type": "markdown",
   "metadata": {},
   "source": [
    "## request position of amino acid to be targeted"
   ]
  },
  {
   "cell_type": "code",
   "execution_count": 7,
   "metadata": {},
   "outputs": [
    {
     "name": "stdin",
     "output_type": "stream",
     "text": [
      "Enter the position of the targeted amino acid: 123\n"
     ]
    }
   ],
   "source": [
    "target_aa_position = input(\"Enter the position of the targeted amino acid:\")"
   ]
  },
  {
   "cell_type": "markdown",
   "metadata": {},
   "source": [
    "## request new amino acid substitution"
   ]
  },
  {
   "cell_type": "code",
   "execution_count": 12,
   "metadata": {},
   "outputs": [
    {
     "name": "stdin",
     "output_type": "stream",
     "text": [
      "Enter the new amino acid (single letter): B\n"
     ]
    },
    {
     "name": "stdout",
     "output_type": "stream",
     "text": [
      "Change to be made: A at 123 changed to B\n"
     ]
    }
   ],
   "source": [
    "new_aa = input(\"Enter the new amino acid (single letter):\")\n",
    "print(\"Change to be made:\", target_aa, \"at\", target_aa_position, \"changed to\", new_aa)"
   ]
  },
  {
   "cell_type": "code",
   "execution_count": null,
   "metadata": {},
   "outputs": [],
   "source": []
  }
 ],
 "metadata": {
  "kernelspec": {
   "display_name": "Python 3",
   "language": "python",
   "name": "python3"
  },
  "language_info": {
   "codemirror_mode": {
    "name": "ipython",
    "version": 3
   },
   "file_extension": ".py",
   "mimetype": "text/x-python",
   "name": "python",
   "nbconvert_exporter": "python",
   "pygments_lexer": "ipython3",
   "version": "3.7.3"
  }
 },
 "nbformat": 4,
 "nbformat_minor": 4
}
